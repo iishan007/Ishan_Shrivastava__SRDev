{
 "cells": [
  {
   "cell_type": "code",
   "execution_count": 1,
   "metadata": {
    "collapsed": true,
    "deletable": true,
    "editable": true
   },
   "outputs": [],
   "source": [
    "import matplotlib.pyplot as plt"
   ]
  },
  {
   "cell_type": "code",
   "execution_count": 2,
   "metadata": {
    "collapsed": true,
    "deletable": true,
    "editable": true
   },
   "outputs": [],
   "source": [
    "def overlap(x1,x2,x3,x4):\n",
    "    if x1 in range(x3,x4):\n",
    "        print (\"Overlap\")\n",
    "    elif x2 in range(x3,x4):\n",
    "        print (\"Overlap\")\n",
    "    elif x3 in range(x1,x2):\n",
    "        print (\"Overlap\")\n",
    "    elif x4 in range(x1,x2):\n",
    "        print (\"Overlap\")\n",
    "    else:\n",
    "        print (\"Doesn't Overlap\")"
   ]
  },
  {
   "cell_type": "code",
   "execution_count": 3,
   "metadata": {
    "collapsed": true,
    "deletable": true,
    "editable": true
   },
   "outputs": [],
   "source": [
    "x1=-5\n",
    "x2=-1\n",
    "x3=-8\n",
    "x4=-2"
   ]
  },
  {
   "cell_type": "code",
   "execution_count": 4,
   "metadata": {
    "collapsed": false,
    "deletable": true,
    "editable": true,
    "scrolled": true
   },
   "outputs": [
    {
     "data": {
      "image/png": "[encoded data removed]",
      "text/plain": [
       "<Figure size 432x288 with 1 Axes>"
      ]
     },
     "metadata": {},
     "output_type": "display_data"
    },
    {
     "name": "stdout",
     "output_type": "stream",
     "text": [
      "Overlap\n"
     ]
    }
   ],
   "source": [
    "x = range(x1,x2)\n",
    "y = range(x3,x4)\n",
    "plt.plot(x, len(x) * [1],\"-.\" ,color='Blue')\n",
    "plt.plot(y, len(y) * [1],\"+\" ,color='Red')\n",
    "plt.show()\n",
    "\n",
    "overlap(x1,x2,x3,x4)"
   ]
  },
  {
   "cell_type": "code",
   "execution_count": 5,
   "metadata": {
    "collapsed": true,
    "deletable": true,
    "editable": true
   },
   "outputs": [],
   "source": [
    "x1=1\n",
    "x2=6\n",
    "x3=3\n",
    "x4=8"
   ]
  },
  {
   "cell_type": "code",
   "execution_count": 6,
   "metadata": {
    "collapsed": false,
    "deletable": true,
    "editable": true
   },
   "outputs": [
    {
     "data": {
      "image/png": "[encoded data removed]",
      "text/plain": [
       "<Figure size 432x288 with 1 Axes>"
      ]
     },
     "metadata": {},
     "output_type": "display_data"
    },
    {
     "name": "stdout",
     "output_type": "stream",
     "text": [
      "Overlap\n"
     ]
    }
   ],
   "source": [
    "x = range(x1,x2)\n",
    "y = range(x3,x4)\n",
    "plt.plot(x, len(x) * [1],\"-.\" ,color='Blue')\n",
    "plt.plot(y, len(y) * [1],\"+\" ,color='Red')\n",
    "plt.show()\n",
    "\n",
    "overlap(x1,x2,x3,x4)"
   ]
  },
  {
   "cell_type": "code",
   "execution_count": null,
   "metadata": {
    "collapsed": true,
    "deletable": true,
    "editable": true
   },
   "outputs": [],
   "source": []
  }
 ],
 "metadata": {
  "kernelspec": {
   "display_name": "Python 3",
   "language": "python",
   "name": "python3"
  },
  "language_info": {
   "codemirror_mode": {
    "name": "ipython",
    "version": 3
   },
   "file_extension": ".py",
   "mimetype": "text/x-python",
   "name": "python",
   "nbconvert_exporter": "python",
   "pygments_lexer": "ipython3",
   "version": "3.5.2"
  }
 },
 "nbformat": 4,
 "nbformat_minor": 2
}
